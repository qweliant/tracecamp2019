{
 "cells": [
  {
   "cell_type": "code",
   "execution_count": null,
   "metadata": {},
   "outputs": [],
   "source": [
    "import requests \n",
    "import datetime\n",
    "from IPython import display\n",
    "import datetime\n",
    "\n",
    "api_key=\"cGGh4pgW45NlrovpudcBvPVaLq8je7wp97M8yLID\" \n",
    "date = \"2016-01-01\"\n",
    "url = f'https://api.nasa.gov/planetary/apod?{api_key}&{date}'\n",
    "response = requests.get(url)\n",
    "img_url = response.json()['url']\n",
    "display.display(display.Image(img_url))\n",
    "display.clear_output()\n",
    "display.display(display.Image(img_url))"
   ]
  }
 ],
 "metadata": {
  "kernelspec": {
   "display_name": "Python 3",
   "language": "python",
   "name": "python3"
  },
  "language_info": {
   "codemirror_mode": {
    "name": "ipython",
    "version": 3
   },
   "file_extension": ".py",
   "mimetype": "text/x-python",
   "name": "python",
   "nbconvert_exporter": "python",
   "pygments_lexer": "ipython3",
   "version": "3.7.3"
  }
 },
 "nbformat": 4,
 "nbformat_minor": 2
}
